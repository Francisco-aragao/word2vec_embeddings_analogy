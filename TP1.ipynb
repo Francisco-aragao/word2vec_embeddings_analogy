{
 "cells": [
  {
   "cell_type": "code",
   "execution_count": 27,
   "metadata": {},
   "outputs": [],
   "source": [
    "from gensim.models import Word2Vec\n",
    "from sklearn.metrics.pairwise import cosine_similarity\n",
    "from gensim.models.word2vec import LineSentence"
   ]
  },
  {
   "cell_type": "code",
   "execution_count": 28,
   "metadata": {},
   "outputs": [],
   "source": [
    "with open('text8') as f:\n",
    "    data = f.read()"
   ]
  },
  {
   "cell_type": "code",
   "execution_count": 29,
   "metadata": {},
   "outputs": [
    {
     "name": "stdout",
     "output_type": "stream",
     "text": [
      " anarchism o\n"
     ]
    }
   ],
   "source": [
    "print(data[0:12])"
   ]
  },
  {
   "cell_type": "code",
   "execution_count": 42,
   "metadata": {},
   "outputs": [],
   "source": [
    "data_sentences = []\n",
    "sentences = []\n",
    "for i in data.split():\n",
    "    sentences.append(i)\n",
    "\n",
    "    if len(sentences) == 50:\n",
    "        data_sentences.append(sentences)\n",
    "        sentences = []"
   ]
  },
  {
   "cell_type": "code",
   "execution_count": 43,
   "metadata": {},
   "outputs": [
    {
     "name": "stdout",
     "output_type": "stream",
     "text": [
      "[['anarchism', 'originated', 'as', 'a', 'term', 'of', 'abuse', 'first', 'used', 'against', 'early', 'working', 'class', 'radicals', 'including', 'the', 'diggers', 'of', 'the', 'english', 'revolution', 'and', 'the', 'sans', 'culottes', 'of', 'the', 'french', 'revolution', 'whilst', 'the', 'term', 'is', 'still', 'used', 'in', 'a', 'pejorative', 'way', 'to', 'describe', 'any', 'act', 'that', 'used', 'violent', 'means', 'to', 'destroy', 'the'], ['organization', 'of', 'society', 'it', 'has', 'also', 'been', 'taken', 'up', 'as', 'a', 'positive', 'label', 'by', 'self', 'defined', 'anarchists', 'the', 'word', 'anarchism', 'is', 'derived', 'from', 'the', 'greek', 'without', 'archons', 'ruler', 'chief', 'king', 'anarchism', 'as', 'a', 'political', 'philosophy', 'is', 'the', 'belief', 'that', 'rulers', 'are', 'unnecessary', 'and', 'should', 'be', 'abolished', 'although', 'there', 'are', 'differing'], ['interpretations', 'of', 'what', 'this', 'means', 'anarchism', 'also', 'refers', 'to', 'related', 'social', 'movements', 'that', 'advocate', 'the', 'elimination', 'of', 'authoritarian', 'institutions', 'particularly', 'the', 'state', 'the', 'word', 'anarchy', 'as', 'most', 'anarchists', 'use', 'it', 'does', 'not', 'imply', 'chaos', 'nihilism', 'or', 'anomie', 'but', 'rather', 'a', 'harmonious', 'anti', 'authoritarian', 'society', 'in', 'place', 'of', 'what', 'are', 'regarded'], ['as', 'authoritarian', 'political', 'structures', 'and', 'coercive', 'economic', 'institutions', 'anarchists', 'advocate', 'social', 'relations', 'based', 'upon', 'voluntary', 'association', 'of', 'autonomous', 'individuals', 'mutual', 'aid', 'and', 'self', 'governance', 'while', 'anarchism', 'is', 'most', 'easily', 'defined', 'by', 'what', 'it', 'is', 'against', 'anarchists', 'also', 'offer', 'positive', 'visions', 'of', 'what', 'they', 'believe', 'to', 'be', 'a', 'truly', 'free', 'society'], ['however', 'ideas', 'about', 'how', 'an', 'anarchist', 'society', 'might', 'work', 'vary', 'considerably', 'especially', 'with', 'respect', 'to', 'economics', 'there', 'is', 'also', 'disagreement', 'about', 'how', 'a', 'free', 'society', 'might', 'be', 'brought', 'about', 'origins', 'and', 'predecessors', 'kropotkin', 'and', 'others', 'argue', 'that', 'before', 'recorded', 'history', 'human', 'society', 'was', 'organized', 'on', 'anarchist', 'principles', 'most', 'anthropologists', 'follow'], ['kropotkin', 'and', 'engels', 'in', 'believing', 'that', 'hunter', 'gatherer', 'bands', 'were', 'egalitarian', 'and', 'lacked', 'division', 'of', 'labour', 'accumulated', 'wealth', 'or', 'decreed', 'law', 'and', 'had', 'equal', 'access', 'to', 'resources', 'william', 'godwin', 'anarchists', 'including', 'the', 'the', 'anarchy', 'organisation', 'and', 'rothbard', 'find', 'anarchist', 'attitudes', 'in', 'taoism', 'from', 'ancient', 'china', 'kropotkin', 'found', 'similar', 'ideas', 'in'], ['stoic', 'zeno', 'of', 'citium', 'according', 'to', 'kropotkin', 'zeno', 'repudiated', 'the', 'omnipotence', 'of', 'the', 'state', 'its', 'intervention', 'and', 'regimentation', 'and', 'proclaimed', 'the', 'sovereignty', 'of', 'the', 'moral', 'law', 'of', 'the', 'individual', 'the', 'anabaptists', 'of', 'one', 'six', 'th', 'century', 'europe', 'are', 'sometimes', 'considered', 'to', 'be', 'religious', 'forerunners', 'of', 'modern', 'anarchism', 'bertrand', 'russell', 'in'], ['his', 'history', 'of', 'western', 'philosophy', 'writes', 'that', 'the', 'anabaptists', 'repudiated', 'all', 'law', 'since', 'they', 'held', 'that', 'the', 'good', 'man', 'will', 'be', 'guided', 'at', 'every', 'moment', 'by', 'the', 'holy', 'spirit', 'from', 'this', 'premise', 'they', 'arrive', 'at', 'communism', 'the', 'diggers', 'or', 'true', 'levellers', 'were', 'an', 'early', 'communistic', 'movement', 'during', 'the', 'time', 'of'], ['the', 'english', 'civil', 'war', 'and', 'are', 'considered', 'by', 'some', 'as', 'forerunners', 'of', 'modern', 'anarchism', 'in', 'the', 'modern', 'era', 'the', 'first', 'to', 'use', 'the', 'term', 'to', 'mean', 'something', 'other', 'than', 'chaos', 'was', 'louis', 'armand', 'baron', 'de', 'lahontan', 'in', 'his', 'nouveaux', 'voyages', 'dans', 'l', 'am', 'rique', 'septentrionale', 'one', 'seven', 'zero', 'three', 'where'], ['he', 'described', 'the', 'indigenous', 'american', 'society', 'which', 'had', 'no', 'state', 'laws', 'prisons', 'priests', 'or', 'private', 'property', 'as', 'being', 'in', 'anarchy', 'russell', 'means', 'a', 'libertarian', 'and', 'leader', 'in', 'the', 'american', 'indian', 'movement', 'has', 'repeatedly', 'stated', 'that', 'he', 'is', 'an', 'anarchist', 'and', 'so', 'are', 'all', 'his', 'ancestors', 'in', 'one', 'seven', 'nine', 'three'], ['in', 'the', 'thick', 'of', 'the', 'french', 'revolution', 'william', 'godwin', 'published', 'an', 'enquiry', 'concerning', 'political', 'justice', 'although', 'godwin', 'did', 'not', 'use', 'the', 'word', 'anarchism', 'many', 'later', 'anarchists', 'have', 'regarded', 'this', 'book', 'as', 'the', 'first', 'major', 'anarchist', 'text', 'and', 'godwin', 'as', 'the', 'founder', 'of', 'philosophical', 'anarchism', 'but', 'at', 'this', 'point', 'no', 'anarchist']]\n"
     ]
    }
   ],
   "source": [
    "print(data_sentences[0:11])"
   ]
  },
  {
   "cell_type": "code",
   "execution_count": 48,
   "metadata": {},
   "outputs": [],
   "source": [
    "hiperparameters = {\n",
    "    'vector_size': [50, 100, 200],\n",
    "    'sg': [0, 1], # 1 = skip-gram, 0 = CBOW\n",
    "    'window': [2, 5, 10],\n",
    "    'epochs': [5, 10, 20],\n",
    "}"
   ]
  },
  {
   "cell_type": "code",
   "execution_count": 49,
   "metadata": {},
   "outputs": [],
   "source": [
    "from sklearn.model_selection import ParameterGrid\n",
    "\n",
    "\n",
    "grid = list(ParameterGrid(hiperparameters))"
   ]
  },
  {
   "cell_type": "code",
   "execution_count": 77,
   "metadata": {},
   "outputs": [
    {
     "name": "stdout",
     "output_type": "stream",
     "text": [
      "19544\n"
     ]
    }
   ],
   "source": [
    "# abrir arquivo com frases para teste\n",
    "test_vectors = []\n",
    "target_words = []\n",
    "with open(\"questions-words.txt\") as f:\n",
    "        for line in f:\n",
    "            if line.startswith(\":\"):\n",
    "                continue\n",
    "            \n",
    "            line = line.strip().lower().split(' ')\n",
    "\n",
    "            if len(line) != 4:\n",
    "                 continue\n",
    "            \n",
    "            test_vectors.append(line[0:3])\n",
    "            target_words.append(line[3])      \n",
    "\n",
    "print(len(test_vectors))      "
   ]
  },
  {
   "cell_type": "code",
   "execution_count": 94,
   "metadata": {},
   "outputs": [
    {
     "name": "stdout",
     "output_type": "stream",
     "text": [
      "\n",
      "Best Configuration: {'epochs': 5, 'sg': 1, 'vector_size': 50, 'window': 10}\n",
      "Min Average Error: 0.55538132695304\n",
      "\n",
      "Worst Configuration: {'epochs': 5, 'sg': 0, 'vector_size': 200, 'window': 5}\n",
      "Max Average Error: 0.8978691275613163\n"
     ]
    }
   ],
   "source": [
    "\n",
    "best_config = {}\n",
    "min_avg_error = 50000\n",
    "\n",
    "worst_config = {}\n",
    "max_avg_error = 0\n",
    "\n",
    "results = []\n",
    "\n",
    "for parameter_configuration in grid:\n",
    "    total_error = 0.0\n",
    "    count_test_words_in_vocab = 0\n",
    "\n",
    "    model = Word2Vec(sentences=data_sentences, vector_size=parameter_configuration['vector_size'], window=parameter_configuration['window'], sg=parameter_configuration['sg'], epochs=parameter_configuration['epochs'])\n",
    "\n",
    "    for idx in range(len(test_vectors)):\n",
    "\n",
    "        # Extract the words in the analogy\n",
    "        word_a, word_b, word_c = test_vectors[idx]\n",
    "        target = target_words[idx]\n",
    "\n",
    "        # Check if all words are in the model's vocabulary\n",
    "        if all(word in model.wv for word in [word_a, word_b, word_c, target]):\n",
    "            # Calculate vector: vec_a - vec_b + vec_c\n",
    "            analogy_vector = model.wv[word_a] - model.wv[word_b] + model.wv[word_c]\n",
    "            \n",
    "            # Calculate cosine similarity with the expected word (word_d)\n",
    "            similarity = cosine_similarity([analogy_vector], [model.wv[target]])[0][0]\n",
    "\n",
    "            # Calculate the error as 1 - similarity (closer to 0 means better)\n",
    "            error = 1 - similarity\n",
    "            total_error += error\n",
    "            count_test_words_in_vocab += 1\n",
    "            \"\"\" print(f\"Analogy: {word_a} - {word_b} + {word_c} = {target}\")\n",
    "            print(f\"Similarity with {target}: {similarity:.4f}, Error: {error:.4f}\")\n",
    "            print() \"\"\"\n",
    "\n",
    "    # Step 4: Calculate average error\n",
    "    average_error = total_error / count_test_words_in_vocab if count_test_words_in_vocab > 0 else 0\n",
    "    \"\"\" print(f\"\\nAverage Analogy Error: {average_error}\") \"\"\"\n",
    "\n",
    "    results.append((parameter_configuration, average_error))\n",
    "\n",
    "    if average_error < min_avg_error:\n",
    "        best_config = parameter_configuration\n",
    "        min_avg_error = average_error\n",
    "        model.save(\"best_model\")\n",
    "    \n",
    "    if average_error > max_avg_error:\n",
    "        worst_config = parameter_configuration\n",
    "        max_avg_error = average_error\n",
    "\n",
    "\n",
    "print(f\"\\nBest Configuration: {best_config}\")\n",
    "print(f\"Min Average Error: {min_avg_error}\")\n",
    "\n",
    "print(f\"\\nWorst Configuration: {worst_config}\")\n",
    "print(f\"Max Average Error: {max_avg_error}\")\n",
    "\n"
   ]
  },
  {
   "cell_type": "code",
   "execution_count": 95,
   "metadata": {},
   "outputs": [
    {
     "name": "stdout",
     "output_type": "stream",
     "text": [
      "[({'epochs': 5, 'sg': 0, 'vector_size': 50, 'window': 2}, 0.8637289382061297), ({'epochs': 5, 'sg': 0, 'vector_size': 50, 'window': 5}, 0.8844702592285507), ({'epochs': 5, 'sg': 0, 'vector_size': 50, 'window': 10}, 0.8667843762558468), ({'epochs': 5, 'sg': 0, 'vector_size': 100, 'window': 2}, 0.8777844809484876), ({'epochs': 5, 'sg': 0, 'vector_size': 100, 'window': 5}, 0.8917970729349668), ({'epochs': 5, 'sg': 0, 'vector_size': 100, 'window': 10}, 0.8814665731799214), ({'epochs': 5, 'sg': 0, 'vector_size': 200, 'window': 2}, 0.8836903947134177), ({'epochs': 5, 'sg': 0, 'vector_size': 200, 'window': 5}, 0.8978691275613163), ({'epochs': 5, 'sg': 0, 'vector_size': 200, 'window': 10}, 0.8830664120799637), ({'epochs': 5, 'sg': 1, 'vector_size': 50, 'window': 2}, 0.6263788621831115), ({'epochs': 5, 'sg': 1, 'vector_size': 50, 'window': 5}, 0.5774646656031192), ({'epochs': 5, 'sg': 1, 'vector_size': 50, 'window': 10}, 0.55538132695304), ({'epochs': 5, 'sg': 1, 'vector_size': 100, 'window': 2}, 0.6843965845449692), ({'epochs': 5, 'sg': 1, 'vector_size': 100, 'window': 5}, 0.6435159841916989), ({'epochs': 5, 'sg': 1, 'vector_size': 100, 'window': 10}, 0.6179169542041717), ({'epochs': 5, 'sg': 1, 'vector_size': 200, 'window': 2}, 0.7281770276635625), ({'epochs': 5, 'sg': 1, 'vector_size': 200, 'window': 5}, 0.6937624064724232), ({'epochs': 5, 'sg': 1, 'vector_size': 200, 'window': 10}, 0.6759631374759987), ({'epochs': 10, 'sg': 0, 'vector_size': 50, 'window': 2}, 0.8371081274711111), ({'epochs': 10, 'sg': 0, 'vector_size': 50, 'window': 5}, 0.8405930312293046), ({'epochs': 10, 'sg': 0, 'vector_size': 50, 'window': 10}, 0.8288804471405856), ({'epochs': 10, 'sg': 0, 'vector_size': 100, 'window': 2}, 0.8586837274564169), ({'epochs': 10, 'sg': 0, 'vector_size': 100, 'window': 5}, 0.8543614566688585), ({'epochs': 10, 'sg': 0, 'vector_size': 100, 'window': 10}, 0.8438153226909166), ({'epochs': 10, 'sg': 0, 'vector_size': 200, 'window': 2}, 0.8727346508375768), ({'epochs': 10, 'sg': 0, 'vector_size': 200, 'window': 5}, 0.8659253937498225), ({'epochs': 10, 'sg': 0, 'vector_size': 200, 'window': 10}, 0.8510058356531268), ({'epochs': 10, 'sg': 1, 'vector_size': 50, 'window': 2}, 0.6250138894937068), ({'epochs': 10, 'sg': 1, 'vector_size': 50, 'window': 5}, 0.584635035953901), ({'epochs': 10, 'sg': 1, 'vector_size': 50, 'window': 10}, 0.5600422201176011), ({'epochs': 10, 'sg': 1, 'vector_size': 100, 'window': 2}, 0.6979863790327958), ({'epochs': 10, 'sg': 1, 'vector_size': 100, 'window': 5}, 0.6583604745894907), ({'epochs': 10, 'sg': 1, 'vector_size': 100, 'window': 10}, 0.6370455742518191), ({'epochs': 10, 'sg': 1, 'vector_size': 200, 'window': 2}, 0.7574781134502652), ({'epochs': 10, 'sg': 1, 'vector_size': 200, 'window': 5}, 0.7228572590758261), ({'epochs': 10, 'sg': 1, 'vector_size': 200, 'window': 10}, 0.7067511369643537), ({'epochs': 20, 'sg': 0, 'vector_size': 50, 'window': 2}, 0.8055178470259088), ({'epochs': 20, 'sg': 0, 'vector_size': 50, 'window': 5}, 0.7995826630774614), ({'epochs': 20, 'sg': 0, 'vector_size': 50, 'window': 10}, 0.7918868053726912), ({'epochs': 20, 'sg': 0, 'vector_size': 100, 'window': 2}, 0.839801466192899), ({'epochs': 20, 'sg': 0, 'vector_size': 100, 'window': 5}, 0.8245720724205552), ({'epochs': 20, 'sg': 0, 'vector_size': 100, 'window': 10}, 0.8157958231213469), ({'epochs': 20, 'sg': 0, 'vector_size': 200, 'window': 2}, 0.8676658915210728), ({'epochs': 20, 'sg': 0, 'vector_size': 200, 'window': 5}, 0.848232322934189), ({'epochs': 20, 'sg': 0, 'vector_size': 200, 'window': 10}, 0.8338726349913987), ({'epochs': 20, 'sg': 1, 'vector_size': 50, 'window': 2}, 0.6278027783189581), ({'epochs': 20, 'sg': 1, 'vector_size': 50, 'window': 5}, 0.5967364574052009), ({'epochs': 20, 'sg': 1, 'vector_size': 50, 'window': 10}, 0.5707512863907391), ({'epochs': 20, 'sg': 1, 'vector_size': 100, 'window': 2}, 0.7090631223146879), ({'epochs': 20, 'sg': 1, 'vector_size': 100, 'window': 5}, 0.6727654248067264), ({'epochs': 20, 'sg': 1, 'vector_size': 100, 'window': 10}, 0.6502939212359871), ({'epochs': 20, 'sg': 1, 'vector_size': 200, 'window': 2}, 0.7799238791104737), ({'epochs': 20, 'sg': 1, 'vector_size': 200, 'window': 5}, 0.7471352708457184), ({'epochs': 20, 'sg': 1, 'vector_size': 200, 'window': 10}, 0.7237673046868219)]\n"
     ]
    }
   ],
   "source": [
    "print(results)"
   ]
  },
  {
   "cell_type": "code",
   "execution_count": 98,
   "metadata": {},
   "outputs": [],
   "source": [
    "# store results sorted by error\n",
    "results.sort(key=lambda x: x[1])\n",
    "\n",
    "with open(\"results.txt\", \"w\") as f:\n",
    "    for result in results:\n",
    "        f.write(f\"{result[0]} -> {result[1]}\\n\")\n"
   ]
  }
 ],
 "metadata": {
  "kernelspec": {
   "display_name": "tp1_nlp",
   "language": "python",
   "name": "python3"
  },
  "language_info": {
   "codemirror_mode": {
    "name": "ipython",
    "version": 3
   },
   "file_extension": ".py",
   "mimetype": "text/x-python",
   "name": "python",
   "nbconvert_exporter": "python",
   "pygments_lexer": "ipython3",
   "version": "3.11.2"
  }
 },
 "nbformat": 4,
 "nbformat_minor": 2
}
